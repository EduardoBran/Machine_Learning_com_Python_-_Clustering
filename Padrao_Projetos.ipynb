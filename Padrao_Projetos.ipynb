{
 "cells": [
  {
   "cell_type": "markdown",
   "id": "a0b7dd07",
   "metadata": {},
   "source": [
    "# <center>Prevendo Nota de Games</center>\n",
    "\n",
    "<br>\n",
    "\n",
    "# 📌 **1️⃣ Descrição Geral**\n",
    "Este projeto tem como objetivo **analisar os fatores que influenciam as avaliações médias (`Average`)** de jogos de tabuleiro, utilizando um conjunto de dados contendo informações de jogos registrados no **BoardGameGeek**.  \n",
    "\n",
    "O conjunto de dados inclui características como **ano de lançamento, quantidade de usuários que avaliaram, média bayesiana e ranking**.  \n",
    "\n",
    "A partir dessa análise, será desenvolvido um **modelo de regressão** para prever a média de avaliações (`Average`) de um jogo de tabuleiro com base em suas características.\n",
    "\n",
    "---\n",
    "\n",
    "# 🎯 **2️⃣ Objetivo do Projeto**\n",
    "✔️ Explorar e **tratar o conjunto de dados**, corrigindo valores inconsistentes e lidando com valores ausentes.  \n",
    "✔️ Realizar **análise exploratória** para compreender a distribuição dos dados e correlações entre as variáveis.  \n",
    "✔️ **Pré-processar os dados**, aplicando transformações como **codificação de variáveis categóricas** e **tratamento de outliers**.  \n",
    "✔️ Treinar e avaliar **modelos de Machine Learning** para prever a **média de avaliação (`Average`)** de um jogo de tabuleiro.  \n",
    "✔️ Interpretar os resultados, destacando os **fatores mais relevantes** para a predição.  \n",
    "\n",
    "---\n",
    "\n",
    "# 📊 **3️⃣ Descrição do Dataset**\n",
    "O conjunto de dados contém **41.161 registros** e **10 atributos**, conforme descrito abaixo:\n",
    "\n",
    "| **Coluna**      | **Descrição**                                               | **Tipo de Dado** | **Valores Ausentes** |\n",
    "|----------------|-------------------------------------------------------------|------------------|----------------------|\n",
    "| `Unnamed: 0`   | Índice do dataset                                          | `int64`          | Nenhum               |\n",
    "| `ID`           | Identificador único do jogo                                | `int64`          | Nenhum               |\n",
    "| `Name`         | Nome do jogo                                               | `object`         | Nenhum               |\n",
    "| `Year`         | Ano de lançamento do jogo                                  | `int64`          | Nenhum               |\n",
    "| `Rank`         | Posição no ranking do BoardGameGeek                        | `int64`          | Nenhum               |\n",
    "| `Average`      | Média das avaliações dos usuários (**Variável Alvo**)      | `float64`        | Nenhum               |\n",
    "| `Bayes average`| Média bayesiana das avaliações                            | `float64`        | Nenhum               |\n",
    "| `Users rated`  | Número de usuários que avaliaram o jogo                   | `int64`          | Nenhum               |\n",
    "| `URL`          | Link para a página do jogo                                | `object`         | Nenhum               |\n",
    "| `Thumbnail`    | URL da imagem do jogo                                     | `object`         | 19 valores ausentes  |\n",
    "\n",
    "### **📌 Variável Alvo**\n",
    "A variável **`Average`** representa a **média de avaliações** dos usuários para um jogo de tabuleiro.  \n",
    "O objetivo do modelo preditivo será **estimar essa nota** com base nas demais características do jogo.\n",
    "\n",
    "### **📌 Observações sobre o Dataset**\n",
    "✔️ A coluna **`Rank`** pode ter **correlação com `Average`**, pois jogos mais bem ranqueados tendem a ter **avaliações mais altas**.  \n",
    "✔️ A coluna **`Users rated`** pode impactar a previsão, pois **jogos com mais avaliações** podem ter **médias mais estáveis**.  \n",
    "✔️ As colunas **`URL`** e **`Thumbnail`** são apenas **informativas** e **não serão utilizadas no modelo**.  \n",
    "✔️ A variável **`Year`** pode ser transformada para representar a **\"idade do jogo\"** (`2025 - Year`).  \n",
    "\n",
    "---\n",
    "\n",
    "# 🔄 **4️⃣ Fluxograma do Processo**\n",
    "\n",
    "## **1️⃣ Carregamento dos Dados**\n",
    "✔️ **Importação das bibliotecas** necessárias (`pandas`, `numpy`, `matplotlib`, `seaborn`, `sklearn`).  \n",
    "✔️ **Carregamento dos datasets** e **remoção de duplicatas**.  \n",
    "✔️ **Verificação das primeiras amostras** (`df.head()`).  \n",
    "✔️ **Inspeção dos tipos de dados e valores ausentes** (`df.info()`, `df.describe()`).  \n",
    "\n",
    "---\n",
    "\n",
    "## **2️⃣ Análise Exploratória dos Dados (EDA)**\n",
    "✔️ **Exploração da estrutura e tipos das colunas** (`df.dtypes`).  \n",
    "✔️ **Identificação de valores ausentes e inconsistências** (`df.isnull().sum()`).  \n",
    "✔️ **Análise estatística descritiva** (`df.describe()`).  \n",
    "✔️ **Geração de visualizações** para compreender distribuições e correlações:  \n",
    "   - **Histogramas** para analisar a distribuição das variáveis.  \n",
    "   - **Gráficos de dispersão** para identificar padrões entre variáveis.  \n",
    "   - **Matriz de correlação** para verificar relações entre os atributos.  \n",
    "\n",
    "---\n",
    "\n",
    "## **3️⃣ Pré-Processamento**\n",
    "✔️ **Tratamento da coluna `Year`**: converter para **Idade do Jogo (`2025 - Year`)**.  \n",
    "✔️ **Remoção das colunas `Unnamed: 0`, `URL` e `Thumbnail`** (não relevantes para a predição).  \n",
    "✔️ **Tratamento da variável categórica `Name`** (verificar se será utilizada ou descartada).  \n",
    "✔️ **Tratamento de valores ausentes** na coluna `Thumbnail` (se necessário).  \n",
    "✔️ **Identificação e tratamento de outliers** nas variáveis numéricas.  \n",
    "✔️ **Normalização das variáveis numéricas**, se necessário.  \n",
    "\n",
    "---\n",
    "\n",
    "## **4️⃣ Divisão dos Dados**\n",
    "✔️ **Separação do dataset** em:  \n",
    "   - **Conjunto de Treino**: 80%  \n",
    "   - **Conjunto de Teste**: 20%  \n",
    "✔️ Uso da função **`train_test_split()`** do `sklearn`.  \n",
    "\n",
    "---\n",
    "\n",
    "## **5️⃣ Construção do Modelo**\n",
    "✔️ **Seleção de modelos de Machine Learning** para predição de `Average`:  \n",
    "   - **Regressão Linear** como modelo base.  \n",
    "   - **Random Forest Regressor** para melhorar a performance.  \n",
    "   - **XGBoost** como alternativa mais otimizada.  \n",
    "✔️ **Treinamento de duas versões de cada modelo**:  \n",
    "   - **Versão 1**: Modelo sem ajuste de hiperparâmetros.  \n",
    "   - **Versão 2**: Modelo com ajuste de hiperparâmetros via **`GridSearchCV`** ou **`RandomizedSearchCV`**.  \n",
    "\n",
    "---\n",
    "\n",
    "## **6️⃣ Avaliação do Modelo**\n",
    "✔️ **Teste do modelo** nos **dados de validação**.  \n",
    "✔️ **Cálculo das métricas de desempenho**:  \n",
    "   - **Erro Médio Absoluto (MAE)**  \n",
    "   - **Erro Quadrático Médio (MSE)**  \n",
    "   - **Raiz do Erro Quadrático Médio (RMSE)**  \n",
    "   - **R² (Coeficiente de Determinação)**  \n",
    "✔️ **Análise da importância das variáveis** para a previsão (`feature_importances_` no caso de modelos baseados em árvores).  \n",
    "\n",
    "---\n",
    "\n",
    "## **7️⃣ Criação de Novos Dados Fictícios**\n",
    "✔️ **Geração de um conjunto de dados sintéticos**, contendo:  \n",
    "   - **As mesmas variáveis preditoras** do conjunto original.  \n",
    "   - **Valores respeitando os intervalos estatísticos** das variáveis numéricas.  \n",
    "\n",
    "---\n",
    "\n",
    "## **8️⃣ Transformação dos Novos Dados**\n",
    "✔️ Aplicação do **mesmo pipeline de pré-processamento**:  \n",
    "   - **Conversão da variável `Year` para Idade do Jogo**.  \n",
    "   - **Normalização de variáveis numéricas** (se aplicável).  \n",
    "\n",
    "---\n",
    "\n",
    "## **9️⃣ Teste do Modelo com Novos Dados**\n",
    "✔️ Aplicação do **modelo treinado** nos **novos dados fictícios**.  \n",
    "✔️ **Previsão da variável `Average`** para os novos dados.  \n",
    "✔️ Comparação dos **resultados gerados** com os dados reais (se disponíveis).  \n",
    "\n",
    "---\n",
    "\n",
    "# 🔟 **Análise e Comunicação dos Resultados**\n",
    "✔️ **Identificação de padrões e tendências** nos dados preditivos.  \n",
    "✔️ **Geração de visualizações** para demonstrar os **insights do modelo**.  \n",
    "✔️ **Criação de um relatório final** com as principais conclusões:  \n",
    "   - **Importância das variáveis no modelo**.  \n",
    "   - **Fatores que mais influenciam a nota média dos jogos**.  \n",
    "   - **Possíveis aplicações dos resultados para a indústria de jogos de tabuleiro**.  \n",
    "\n",
    "\n",
    "<br><br><br>\n",
    "\n",
    "---\n",
    "\n",
    "<br><br>\n",
    "\n",
    "# Importando Pacotes"
   ]
  },
  {
   "cell_type": "code",
   "execution_count": null,
   "id": "5d84e383",
   "metadata": {},
   "outputs": [],
   "source": []
  },
  {
   "cell_type": "markdown",
   "id": "beacfcac",
   "metadata": {},
   "source": [
    "# **1️⃣ Carregamento dos Dados**"
   ]
  },
  {
   "cell_type": "code",
   "execution_count": 1,
   "id": "43190cae",
   "metadata": {},
   "outputs": [
    {
     "ename": "RuntimeError",
     "evalue": "module was compiled against NumPy C-API version 0x10 (NumPy 1.23) but the running NumPy has C-API version 0xf. Check the section C-API incompatibility at the Troubleshooting ImportError section at https://numpy.org/devdocs/user/troubleshooting-importerror.html#c-api-incompatibility for indications on how to solve this problem.",
     "output_type": "error",
     "traceback": [
      "\u001b[0;31m---------------------------------------------------------------------------\u001b[0m",
      "\u001b[0;31mRuntimeError\u001b[0m                              Traceback (most recent call last)",
      "\u001b[0;31mRuntimeError\u001b[0m: module was compiled against NumPy C-API version 0x10 (NumPy 1.23) but the running NumPy has C-API version 0xf. Check the section C-API incompatibility at the Troubleshooting ImportError section at https://numpy.org/devdocs/user/troubleshooting-importerror.html#c-api-incompatibility for indications on how to solve this problem."
     ]
    },
    {
     "name": "stdout",
     "output_type": "stream",
     "text": [
      "Total de linhas após remoção de duplicatas: 41161\n",
      "<class 'pandas.core.frame.DataFrame'>\n",
      "Index: 41161 entries, 0 to 21830\n",
      "Data columns (total 10 columns):\n",
      " #   Column         Non-Null Count  Dtype  \n",
      "---  ------         --------------  -----  \n",
      " 0   Unnamed: 0     41161 non-null  int64  \n",
      " 1   ID             41161 non-null  int64  \n",
      " 2   Name           41161 non-null  object \n",
      " 3   Year           41161 non-null  int64  \n",
      " 4   Rank           41161 non-null  int64  \n",
      " 5   Average        41161 non-null  float64\n",
      " 6   Bayes average  41161 non-null  float64\n",
      " 7   Users rated    41161 non-null  int64  \n",
      " 8   URL            41161 non-null  object \n",
      " 9   Thumbnail      41142 non-null  object \n",
      "dtypes: float64(2), int64(5), object(3)\n",
      "memory usage: 3.5+ MB\n"
     ]
    }
   ],
   "source": [
    "import pandas as pd\n",
    "\n",
    "# Carregar os dois datasets\n",
    "df1 = pd.read_csv(\"dados/2020-08-19.csv\")\n",
    "df2 = pd.read_csv(\"dados/2022-01-08.csv\")\n",
    "\n",
    "# Concatenar os dataframes e remover duplicatas\n",
    "df = pd.concat([df1, df2]).drop_duplicates()\n",
    "\n",
    "# Exibir o número total de linhas após remoção de duplicatas\n",
    "print(f\"Total de linhas após remoção de duplicatas: {df.shape[0]}\")\n",
    "\n",
    "# Verificar se a junção foi bem-sucedida\n",
    "df.info()\n"
   ]
  },
  {
   "cell_type": "markdown",
   "id": "4b6b1915",
   "metadata": {},
   "source": [
    "# **2️⃣ Análise Exploratória dos Dados (EDA)**"
   ]
  },
  {
   "cell_type": "code",
   "execution_count": null,
   "id": "2b0eaa3d",
   "metadata": {},
   "outputs": [],
   "source": []
  },
  {
   "cell_type": "code",
   "execution_count": null,
   "id": "85ff0b66",
   "metadata": {},
   "outputs": [],
   "source": []
  },
  {
   "cell_type": "code",
   "execution_count": null,
   "id": "939283ed",
   "metadata": {},
   "outputs": [],
   "source": []
  },
  {
   "cell_type": "code",
   "execution_count": null,
   "id": "3a2b479b",
   "metadata": {},
   "outputs": [],
   "source": []
  },
  {
   "cell_type": "code",
   "execution_count": null,
   "id": "8aacccad",
   "metadata": {},
   "outputs": [],
   "source": []
  },
  {
   "cell_type": "markdown",
   "id": "497dd8cd",
   "metadata": {},
   "source": [
    "# **3️⃣ Pré-Processamento**"
   ]
  },
  {
   "cell_type": "code",
   "execution_count": null,
   "id": "59c3ba44",
   "metadata": {},
   "outputs": [],
   "source": []
  },
  {
   "cell_type": "code",
   "execution_count": null,
   "id": "65835b7a",
   "metadata": {},
   "outputs": [],
   "source": []
  },
  {
   "cell_type": "code",
   "execution_count": null,
   "id": "b40a1748",
   "metadata": {},
   "outputs": [],
   "source": []
  },
  {
   "cell_type": "code",
   "execution_count": null,
   "id": "992985fd",
   "metadata": {},
   "outputs": [],
   "source": []
  },
  {
   "cell_type": "code",
   "execution_count": null,
   "id": "d521df46",
   "metadata": {},
   "outputs": [],
   "source": []
  },
  {
   "cell_type": "code",
   "execution_count": null,
   "id": "5c299383",
   "metadata": {},
   "outputs": [],
   "source": []
  },
  {
   "cell_type": "markdown",
   "id": "31333645",
   "metadata": {},
   "source": [
    "# **4️⃣ Divisão dos Dados**"
   ]
  },
  {
   "cell_type": "code",
   "execution_count": null,
   "id": "04ae2cce",
   "metadata": {},
   "outputs": [],
   "source": []
  },
  {
   "cell_type": "markdown",
   "id": "27572ac5",
   "metadata": {},
   "source": [
    "# **5️⃣ Construção dos Modelos**"
   ]
  },
  {
   "cell_type": "code",
   "execution_count": null,
   "id": "24ba91af",
   "metadata": {},
   "outputs": [],
   "source": []
  },
  {
   "cell_type": "code",
   "execution_count": null,
   "id": "ccd55fb7",
   "metadata": {},
   "outputs": [],
   "source": []
  },
  {
   "cell_type": "markdown",
   "id": "c4e1663f",
   "metadata": {},
   "source": [
    "# **6️⃣ Avaliação dos Modelos**"
   ]
  },
  {
   "cell_type": "code",
   "execution_count": null,
   "id": "ecce1ed1",
   "metadata": {},
   "outputs": [],
   "source": []
  },
  {
   "cell_type": "code",
   "execution_count": null,
   "id": "a762d299",
   "metadata": {},
   "outputs": [],
   "source": []
  },
  {
   "cell_type": "markdown",
   "id": "71e7ae00",
   "metadata": {},
   "source": [
    "# **7️⃣ Criação de Novos Dados Fictícios**"
   ]
  },
  {
   "cell_type": "code",
   "execution_count": null,
   "id": "f33a1a27",
   "metadata": {},
   "outputs": [],
   "source": []
  },
  {
   "cell_type": "markdown",
   "id": "f776b12d",
   "metadata": {},
   "source": [
    "# **8️⃣ Transformação dos Novos Dados**"
   ]
  },
  {
   "cell_type": "code",
   "execution_count": null,
   "id": "9bd0b5b5",
   "metadata": {},
   "outputs": [],
   "source": []
  },
  {
   "cell_type": "code",
   "execution_count": null,
   "id": "f872e09c",
   "metadata": {},
   "outputs": [],
   "source": []
  },
  {
   "cell_type": "markdown",
   "id": "52f8ec5c",
   "metadata": {},
   "source": [
    "# **9️⃣ Teste do Modelo com Novos Dados**"
   ]
  },
  {
   "cell_type": "code",
   "execution_count": null,
   "id": "9e81f731",
   "metadata": {},
   "outputs": [],
   "source": []
  },
  {
   "cell_type": "code",
   "execution_count": null,
   "id": "31efdbae",
   "metadata": {},
   "outputs": [],
   "source": []
  },
  {
   "cell_type": "markdown",
   "id": "391beb66",
   "metadata": {},
   "source": [
    "# 🔟 **Análise e Comunicação dos Resultados**"
   ]
  },
  {
   "cell_type": "code",
   "execution_count": null,
   "id": "b596ffbb",
   "metadata": {},
   "outputs": [],
   "source": []
  },
  {
   "cell_type": "code",
   "execution_count": null,
   "id": "05ae9460",
   "metadata": {},
   "outputs": [],
   "source": []
  },
  {
   "cell_type": "code",
   "execution_count": null,
   "id": "137153e6",
   "metadata": {},
   "outputs": [],
   "source": []
  },
  {
   "cell_type": "code",
   "execution_count": null,
   "id": "3ef12a10",
   "metadata": {},
   "outputs": [],
   "source": []
  },
  {
   "cell_type": "code",
   "execution_count": null,
   "id": "80017e37",
   "metadata": {},
   "outputs": [],
   "source": []
  },
  {
   "cell_type": "code",
   "execution_count": null,
   "id": "7e302291",
   "metadata": {},
   "outputs": [],
   "source": []
  },
  {
   "cell_type": "code",
   "execution_count": null,
   "id": "8cbf8a3d",
   "metadata": {},
   "outputs": [],
   "source": []
  },
  {
   "cell_type": "code",
   "execution_count": null,
   "id": "a50151d3",
   "metadata": {},
   "outputs": [],
   "source": []
  },
  {
   "cell_type": "code",
   "execution_count": null,
   "id": "e8952faf",
   "metadata": {},
   "outputs": [],
   "source": []
  }
 ],
 "metadata": {
  "kernelspec": {
   "display_name": "Python 3 (ipykernel)",
   "language": "python",
   "name": "python3"
  },
  "language_info": {
   "codemirror_mode": {
    "name": "ipython",
    "version": 3
   },
   "file_extension": ".py",
   "mimetype": "text/x-python",
   "name": "python",
   "nbconvert_exporter": "python",
   "pygments_lexer": "ipython3",
   "version": "3.9.7"
  }
 },
 "nbformat": 4,
 "nbformat_minor": 5
}
